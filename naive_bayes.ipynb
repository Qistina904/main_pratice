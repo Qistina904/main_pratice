{
 "cells": [
  {
   "cell_type": "markdown",
   "metadata": {},
   "source": [
    "NAIVE BAYES Classification\n",
    "- based on Bayes Theorem where we have \n",
    "- posterior probability function -> pr class i given x(set of features)\n",
    "- likelihood function -> pr of feature given class \n",
    "- pr function of training is class_i -> pr(class_i)\n",
    "\n",
    "ALGORITHM \n",
    "1. make a class to keep track of labels training data (use case, spam emails, train data to tokenize the header email by first splitting each words and search for words contain usually spam and non spam words by using label data)\n",
    "2. predict function - classification function using Bayes Theorem \n",
    "3. Naive bayes classifier function\n",
    "\n",
    "\n",
    "FUNCTION TO CREATE CLASSIFICATION\n"
   ]
  },
  {
   "cell_type": "markdown",
   "metadata": {},
   "source": [
    "FROM ANOTHER CODER"
   ]
  },
  {
   "cell_type": "code",
   "execution_count": 21,
   "metadata": {},
   "outputs": [],
   "source": [
    "import numpy as np\n",
    "\n",
    "class Naive_Bayes():\n",
    "    def __init__(self):\n",
    "        self.class_data_dic={}\n",
    "    \n",
    "    \n",
    "        \n",
    "    def fit(self,X_train,y_train):\n",
    "        def generate_data(class_data_dic,X_train,y_train):\n",
    "            first_one=True\n",
    "            first_zero=True\n",
    "            for i in range(np.size(y_train,0)):\n",
    "                X_temp=X_train[i,:].reshape(X_train[i,:].shape[0],1)\n",
    "                if y_train[i]==1:\n",
    "                    if first_one==True:\n",
    "                        class_data_dic[1]=X_temp\n",
    "                        first_one=False\n",
    "                    else:\n",
    "                        class_data_dic[1]=np.append(class_data_dic[1],X_temp,axis=1)\n",
    "                elif y_train[i]==0:\n",
    "                    if first_zero==True:\n",
    "                        class_data_dic[0]=X_temp\n",
    "                        first_zero=False\n",
    "                    else:\n",
    "                        class_data_dic[0]=np.append(class_data_dic[0],X_temp,axis=1)\n",
    "            return class_data_dic\n",
    "    \n",
    "        self.X_train=X_train\n",
    "        self.y_train=y_train\n",
    "        self.class_data_dic[0]=np.array([[]])\n",
    "        self.class_data_dic[1]=np.array([[]])\n",
    "        self.class_data_dic=generate_data(self.class_data_dic,self.X_train,self.y_train)\n",
    "        self.class_data_dic[0]=self.class_data_dic[0].T\n",
    "        self.class_data_dic[1]=self.class_data_dic[1].T\n",
    "        self.mean_0=np.mean(self.class_data_dic[0],axis=0)\n",
    "        self.mean_1=np.mean(self.class_data_dic[1],axis=0)\n",
    "        self.std_0=np.std(self.class_data_dic[0],axis=0)\n",
    "        self.std_1=np.std(self.class_data_dic[1],axis=0)\n",
    "        \n",
    "        \n",
    "    def predict(self,X_test):\n",
    "        def posterior(X,X_train_class,mean_,std_):\n",
    "            def likelyhood(x,mean,sigma):\n",
    "                return np.exp(-(x-mean)**2/(2*sigma**2))*(1/(np.sqrt(2*np.pi)*sigma))\n",
    "            \n",
    "            product=np.prod(likelyhood(X,mean_,std_),axis=1)\n",
    "            product=product*(X_train_class.shape[0]/self.X_train.shape[0])\n",
    "            return product\n",
    "        \n",
    "        p_1=posterior(X_test,self.class_data_dic[1],self.mean_1,self.std_1)\n",
    "        p_0=posterior(X_test,self.class_data_dic[0],self.mean_0,self.std_0)\n",
    "        return 1*(p_1>p_0)\n"
   ]
  },
  {
   "cell_type": "code",
   "execution_count": 29,
   "metadata": {},
   "outputs": [
    {
     "data": {
      "text/plain": [
       "array([['User ID', 'Gender', 'Age', 'EstimatedSalary', 'Purchased'],\n",
       "       ['15624510', 'Male', '19', '19000', '0'],\n",
       "       ['15810944', 'Male', '35', '20000', '0'],\n",
       "       ...,\n",
       "       ['15654296', 'Female', '50', '20000', '1'],\n",
       "       ['15755018', 'Male', '36', '33000', '0'],\n",
       "       ['15594041', 'Female', '49', '36000', '1']], dtype='<U15')"
      ]
     },
     "metadata": {},
     "output_type": "display_data"
    }
   ],
   "source": [
    "#IMPORT DATA USING NUMPY \n",
    "import numpy as np \n",
    "# using loadtxt()\n",
    "arr = np.loadtxt(\"Social_Network_Ads.csv\",\n",
    "                 delimiter=\",\", dtype=str)\n",
    "display(arr)"
   ]
  },
  {
   "cell_type": "code",
   "execution_count": 30,
   "metadata": {},
   "outputs": [
    {
     "name": "stdout",
     "output_type": "stream",
     "text": [
      "Training set size : 300\n",
      "Testing set size : 100\n"
     ]
    }
   ],
   "source": [
    "#training and testing set size\n",
    "train_size=int(0.75*np.size(Data,0))\n",
    "test_size=int(0.25*np.size(Data,0))\n",
    "print(\"Training set size : \"+ str(train_size))\n",
    "print(\"Testing set size : \"+str(test_size))"
   ]
  },
  {
   "cell_type": "code",
   "execution_count": 31,
   "metadata": {},
   "outputs": [],
   "source": [
    "#Getting features from dataset\n",
    "Data=Data.sample(frac=1)\n",
    "X=Data.iloc[:,[2, 3]].values\n",
    "y=Data.iloc[:,4].values\n",
    "X=X.astype(float)"
   ]
  },
  {
   "cell_type": "code",
   "execution_count": 32,
   "metadata": {},
   "outputs": [],
   "source": [
    "#training set split\n",
    "X_train=X[0:train_size,:]\n",
    "y_train=y[0:train_size]"
   ]
  },
  {
   "cell_type": "code",
   "execution_count": 33,
   "metadata": {},
   "outputs": [],
   "source": [
    "#testing set split\n",
    "X_test=X[train_size:,:]\n",
    "y_test=y[train_size:]"
   ]
  },
  {
   "cell_type": "code",
   "execution_count": 34,
   "metadata": {},
   "outputs": [],
   "source": [
    "#creating object for classifier\n",
    "nb=Naive_Bayes()"
   ]
  },
  {
   "cell_type": "code",
   "execution_count": 35,
   "metadata": {},
   "outputs": [],
   "source": [
    "#fit the classifier\n",
    "nb.fit(X_train,y_train)"
   ]
  },
  {
   "cell_type": "code",
   "execution_count": 36,
   "metadata": {},
   "outputs": [],
   "source": [
    "y_pred=nb.predict(X_test)"
   ]
  },
  {
   "cell_type": "code",
   "execution_count": 37,
   "metadata": {},
   "outputs": [
    {
     "name": "stdout",
     "output_type": "stream",
     "text": [
      "[[63  3]\n",
      " [ 5 29]]\n"
     ]
    }
   ],
   "source": [
    "#getting the confusion matrix\n",
    "tp=len([i for i in range(0,y_test.shape[0]) if y_test[i]==0 and y_pred[i]==0])\n",
    "tn=len([i for i in range(0,y_test.shape[0]) if y_test[i]==0 and y_pred[i]==1])\n",
    "fp=len([i for i in range(0,y_test.shape[0]) if y_test[i]==1 and y_pred[i]==0])\n",
    "fn=len([i for i in range(0,y_test.shape[0]) if y_test[i]==1 and y_pred[i]==1])\n",
    "confusion_matrix=np.array([[tp,tn],[fp,fn]])\n",
    "print(confusion_matrix)"
   ]
  },
  {
   "cell_type": "code",
   "execution_count": 38,
   "metadata": {},
   "outputs": [],
   "source": [
    "#Confusion matrix\n",
    "def accuracy(tp: int, fp: int, fn: int, tn: int) -> float:\n",
    "    correct = tp + tn\n",
    "    total = tp + fp + fn + tn\n",
    "    return correct / total\n",
    "\n",
    "def precision(tp: int, fp: int, fn: int, tn: int) -> float:\n",
    "    return tp / (tp + fp)\n",
    "\n",
    "def recall(tp: int, fp: int, fn: int, tn: int) -> float:\n",
    "    return tp / (tp + fn)\n",
    "\n",
    "def f1_score(tp: int, fp: int, fn: int, tn: int) -> float:\n",
    "    p = precision(tp, fp, fn, tn)\n",
    "    r = recall(tp, fp, fn, tn)\n",
    "    return 2 * p * r / (p + r)\n",
    "\n"
   ]
  },
  {
   "cell_type": "code",
   "execution_count": 39,
   "metadata": {},
   "outputs": [
    {
     "name": "stdout",
     "output_type": "stream",
     "text": [
      "0.66\n",
      "0.9264705882352942\n",
      "0.6847826086956522\n",
      "0.7875000000000001\n"
     ]
    }
   ],
   "source": [
    "print(accuracy(tp,fp,fn,tn))\n",
    "print(precision(tp,fp,fn,tn))\n",
    "print(recall(tp,fp,fn,tn))\n",
    "print(f1_score(tp,fp,fn,tn))"
   ]
  }
 ],
 "metadata": {
  "kernelspec": {
   "display_name": "practicecode",
   "language": "python",
   "name": "python3"
  },
  "language_info": {
   "codemirror_mode": {
    "name": "ipython",
    "version": 3
   },
   "file_extension": ".py",
   "mimetype": "text/x-python",
   "name": "python",
   "nbconvert_exporter": "python",
   "pygments_lexer": "ipython3",
   "version": "3.12.1"
  }
 },
 "nbformat": 4,
 "nbformat_minor": 2
}
