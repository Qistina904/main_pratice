{
 "cells": [
  {
   "cell_type": "markdown",
   "metadata": {},
   "source": [
    "SIMPLE LINEAR REGRESSION: y = intercept + slope(x) + errorterm\n",
    "- Linear Regression function parameter:\n",
    "    1. X:np.array -> [1,2,3] \"One-Dimension Array\"\n",
    "    2. y:np.array  -> [4,5,6] 'One-Dimension Array\"\n",
    "    * returns -> (slope, intercept)\n",
    "- Predictions function parameter:\n",
    "    1. slope: float\n",
    "    2. intercept: float\n",
    "    3. X: np.array -> [1,2,3]\n",
    "    * returns -> predictions:np.array\n",
    "- R2 function:\n",
    "    1. y_true: np.array -> [1,2,3]\n",
    "    2. predictions: np.array -> [1,2,3]\n",
    "    * returns -> R2:float\n",
    "\n"
   ]
  },
  {
   "cell_type": "code",
   "execution_count": 203,
   "metadata": {},
   "outputs": [],
   "source": [
    "import numpy as np\n",
    "\n",
    "def linear_regression(X:np.array, y:np.array)->float:\n",
    " \n",
    "    # Calculate the mean of X and y\n",
    "    mean_X = np.mean(X)\n",
    "    mean_y = np.mean(y)\n",
    "\n",
    "    # Calculate the slope (m)\n",
    "    numerator = np.sum((X - mean_X) * (y - mean_y))\n",
    "    denominator = np.sum((X - mean_X) ** 2)\n",
    "    slope = numerator / denominator\n",
    "\n",
    "    # Calculate the intercept (b)\n",
    "    intercept = mean_y - slope * mean_X\n",
    "\n",
    "    return slope, intercept\n"
   ]
  },
  {
   "cell_type": "code",
   "execution_count": 204,
   "metadata": {},
   "outputs": [
    {
     "name": "stdout",
     "output_type": "stream",
     "text": [
      "Slope : 0.9038659456058723\n",
      "Intercept : 22.947552413468976\n"
     ]
    }
   ],
   "source": [
    "num_friends = [100.0,49,41,40,25,21,21,19,19,18,18,16,15,15,15,15,14,14,13,13,13,13,12,12,11,10,10,10,10,10,10,10,10,10,10,10,10,10,10,10,9,9,9,9,9,9,9,9,9,9,9,9,9,9,9,9,9,9,8,8,8,8,8,8,8,8,8,8,8,8,8,7,7,7,7,7,7,7,7,7,7,7,7,7,7,7,6,6,6,6,6,6,6,6,6,6,6,6,6,6,6,6,6,6,6,6,6,6,5,5,5,5,5,5,5,5,5,5,5,5,5,5,5,5,5,4,4,4,4,4,4,4,4,4,4,4,4,4,4,4,4,4,4,4,4,3,3,3,3,3,3,3,3,3,3,3,3,3,3,3,3,3,3,3,3,2,2,2,2,2,2,2,2,2,2,2,2,2,2,2,2,2,1,1,1,1,1,1,1,1,1,1,1,1,1,1,1,1,1,1,1,1,1,1]\n",
    "daily_minutes = [1,68.77,51.25,52.08,38.36,44.54,57.13,51.4,41.42,31.22,34.76,54.01,38.79,47.59,49.1,27.66,41.03,36.73,48.65,28.12,46.62,35.57,32.98,35,26.07,23.77,39.73,40.57,31.65,31.21,36.32,20.45,21.93,26.02,27.34,23.49,46.94,30.5,33.8,24.23,21.4,27.94,32.24,40.57,25.07,19.42,22.39,18.42,46.96,23.72,26.41,26.97,36.76,40.32,35.02,29.47,30.2,31,38.11,38.18,36.31,21.03,30.86,36.07,28.66,29.08,37.28,15.28,24.17,22.31,30.17,25.53,19.85,35.37,44.6,17.23,13.47,26.33,35.02,32.09,24.81,19.33,28.77,24.26,31.98,25.73,24.86,16.28,34.51,15.23,39.72,40.8,26.06,35.76,34.76,16.13,44.04,18.03,19.65,32.62,35.59,39.43,14.18,35.24,40.13,41.82,35.45,36.07,43.67,24.61,20.9,21.9,18.79,27.61,27.21,26.61,29.77,20.59,27.53,13.82,33.2,25,33.1,36.65,18.63,14.87,22.2,36.81,25.53,24.62,26.25,18.21,28.08,19.42,29.79,32.8,35.99,28.32,27.79,35.88,29.06,36.28,14.1,36.63,37.49,26.9,18.58,38.48,24.48,18.95,33.55,14.24,29.04,32.51,25.63,22.22,19,32.73,15.16,13.9,27.2,32.01,29.27,33,13.74,20.42,27.32,18.23,35.35,28.48,9.08,24.62,20.12,35.26,19.92,31.02,16.49,12.16,30.7,31.22,34.65,13.13,27.51,33.2,31.57,14.1,33.42,17.44,10.12,24.42,9.82,23.39,30.93,15.03,21.67,31.09,33.29,22.61,26.89,23.48,8.38,27.81,32.35,23.84]\n",
    "outlier = num_friends.index(100)    # index of outlier\n",
    "\n",
    "num_friends_good = [x\n",
    "                    for i, x in enumerate(num_friends)\n",
    "                    if i != outlier]\n",
    "\n",
    "daily_minutes_good = [x\n",
    "                      for i, x in enumerate(daily_minutes)\n",
    "                      if i != outlier]\n",
    "slope, intercept = linear_regression(num_friends_good, daily_minutes_good)\n",
    "print(\"Slope :\",slope)\n",
    "print(\"Intercept :\", intercept)"
   ]
  },
  {
   "cell_type": "markdown",
   "metadata": {},
   "source": [
    "- we expect user with n friends to spend 22.95 + n*0.903 mins on the site each day. \n",
    "- we predict that a user with no friends would stiill spend about 23 mins a day on site. and for each additional friend, we expect a user to spend almost a minute more on site.\n",
    "- we need R2 -> coef of determination to measure if we have fit the data, measures the fraction of total variation in the dependent variable "
   ]
  },
  {
   "cell_type": "code",
   "execution_count": 205,
   "metadata": {},
   "outputs": [],
   "source": [
    "#function to make prediction\n",
    "def predict(intercept: float, slope:float, x_i:np.array) -> np.array:\n",
    "    y_pred = (slope *x_i) + intercept\n",
    "    return y_pred\n",
    "\n",
    "predictions = predict(intercept, slope, np.array(num_friends_good))"
   ]
  },
  {
   "cell_type": "code",
   "execution_count": 206,
   "metadata": {},
   "outputs": [
    {
     "name": "stdout",
     "output_type": "stream",
     "text": [
      "R-squared: 0.32910783778362984\n"
     ]
    }
   ],
   "source": [
    "#compute R2 - coef of determination = 1- (SSR/SST)\n",
    "def compute_r2(y_true, y_pred):\n",
    "    residual = y_true - y_pred\n",
    "    mean_y_true = np.mean(y_true)\n",
    "    #** is power of\n",
    "    #total sum of square\n",
    "    total_variance = np.sum((y_true - mean_y_true) ** 2)\n",
    "    #sum of squared errors = SSR\n",
    "    explained_variance = np.sum((residual) ** 2)\n",
    "\n",
    "    r2 = 1- (explained_variance / total_variance)\n",
    "\n",
    "    return r2\n",
    "\n",
    "r2_value = compute_r2(np.array(daily_minutes_good), predictions)\n",
    "\n",
    "print(f\"R-squared: {r2_value}\")\n"
   ]
  },
  {
   "cell_type": "markdown",
   "metadata": {},
   "source": [
    "higher the r2 is better model fits the data. now our r2 is 0.329 indicates that our model is only okay at fitting the data, clearly there are other factors at play."
   ]
  },
  {
   "cell_type": "markdown",
   "metadata": {},
   "source": [
    "Simple Linear Regression (from other author)\n",
    "- TESTING WITH OTHER DATASET"
   ]
  },
  {
   "cell_type": "code",
   "execution_count": 217,
   "metadata": {},
   "outputs": [],
   "source": [
    "#IMPORT DATA USING NUMPY \n",
    "import numpy as np \n",
    "# using loadtxt()\n",
    "Data = np.loadtxt(\"Salary_Data.csv\",\n",
    "                 delimiter=\",\", dtype=str)\n",
    "\n",
    "#display(Data)\n",
    "#print(Data.ndim)\n",
    "#print(Data.shape)\n",
    "#print(Data.size)"
   ]
  },
  {
   "cell_type": "code",
   "execution_count": 218,
   "metadata": {},
   "outputs": [],
   "source": [
    "#Process Data\n",
    "Data_without_first_row = np.delete(Data, 0, axis=0)\n",
    "shuffled_data = np.random.permutation(Data_without_first_row)\n",
    "#print(\"Original 2D array:\")\n",
    "#print(\"Shuffled copy:\")\n",
    "#print(shuffled_data)"
   ]
  },
  {
   "cell_type": "code",
   "execution_count": 209,
   "metadata": {},
   "outputs": [
    {
     "name": "stdout",
     "output_type": "stream",
     "text": [
      "Training set size : 22\n",
      "Testing set size : 7\n"
     ]
    }
   ],
   "source": [
    "#training and testing set size\n",
    "train_size=int(0.75*np.size(shuffled_data,0))\n",
    "test_size=int(0.25*np.size(shuffled_data,0))\n",
    "print(\"Training set size : \"+ str(train_size))\n",
    "print(\"Testing set size : \"+str(test_size))"
   ]
  },
  {
   "cell_type": "code",
   "execution_count": 210,
   "metadata": {},
   "outputs": [],
   "source": [
    "#SPLIT FEATURES AND PREDICTOR\n",
    "#Getting features from dataset\n",
    "X=shuffled_data[:,[1]]\n",
    "y=shuffled_data[:,0]\n"
   ]
  },
  {
   "cell_type": "code",
   "execution_count": 211,
   "metadata": {},
   "outputs": [],
   "source": [
    "#SPLIT TRAIN/TEST\n",
    "#training set split\n",
    "X_train=X[0:train_size,:]\n",
    "X_train = X_train.flatten()\n",
    "X_train = X_train.astype(np.float_)\n",
    "\n",
    "y_train=y[0:train_size]\n",
    "y_train = y_train.flatten()\n",
    "y_train = y_train.astype(np.float_)\n",
    "\n",
    "#testing set split\n",
    "X_test=X[train_size:,:]\n",
    "X_test = X_test.flatten()\n",
    "X_test = X_test.astype(np.float_)\n",
    "Y_test=y[train_size:]\n",
    "Y_test = Y_test.flatten()\n",
    "Y_test = Y_test.astype(np.float_)"
   ]
  },
  {
   "cell_type": "code",
   "execution_count": 212,
   "metadata": {},
   "outputs": [
    {
     "name": "stdout",
     "output_type": "stream",
     "text": [
      "Slope : 0.00010212942351765587\n",
      "Intercept : -2.378410713019366\n",
      "R-squared : 0.9638606804844896\n"
     ]
    }
   ],
   "source": [
    "#Find slope, intercept, prediction and R2 for TRAINING data\n",
    "slope_train, intercept_train = linear_regression(X_train, y_train)\n",
    "predictions_train = predict(intercept_train, slope_train, np.array(X_train))\n",
    "r2_train= compute_r2(np.array(y_train),predictions_train)\n",
    "print(\"Slope :\",slope_train)\n",
    "print(\"Intercept :\", intercept_train)\n",
    "print(\"R-squared :\", r2_train)"
   ]
  },
  {
   "cell_type": "code",
   "execution_count": 213,
   "metadata": {},
   "outputs": [
    {
     "name": "stdout",
     "output_type": "stream",
     "text": [
      "Slope : 9.094873067726321e-05\n",
      "Intercept : -1.8946963640419776\n",
      "R-Squared : 0.9215724756896623\n"
     ]
    }
   ],
   "source": [
    "#Find slope and intercept for TESTING SET\n",
    "slope_test, intercept_test = linear_regression(X_test, Y_test)\n",
    "predictions_test = predict(intercept_test,slope_test, np.array(X_test))\n",
    "r2_test = compute_r2(np.array(Y_test),predictions_test)\n",
    "print(\"Slope :\",slope_test)\n",
    "print(\"Intercept :\", intercept_test)\n",
    "print(\"R-Squared :\", r2_test)"
   ]
  }
 ],
 "metadata": {
  "kernelspec": {
   "display_name": "practicecode",
   "language": "python",
   "name": "python3"
  },
  "language_info": {
   "codemirror_mode": {
    "name": "ipython",
    "version": 3
   },
   "file_extension": ".py",
   "mimetype": "text/x-python",
   "name": "python",
   "nbconvert_exporter": "python",
   "pygments_lexer": "ipython3",
   "version": "3.12.1"
  }
 },
 "nbformat": 4,
 "nbformat_minor": 2
}
