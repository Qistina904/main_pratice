{
 "cells": [
  {
   "cell_type": "code",
   "execution_count": 1,
   "metadata": {},
   "outputs": [
    {
     "name": "stderr",
     "output_type": "stream",
     "text": [
      "C:\\Users\\1610tx\\AppData\\Local\\Temp\\ipykernel_23604\\2727772690.py:4: DeprecationWarning: This function is deprecated. Please call randint(1, 10 + 1) instead\n",
      "  tasks = np.random.random_integers(1,10,11)\n"
     ]
    },
    {
     "data": {
      "text/plain": [
       "{1: [1, 2, 7, 10], 2: [10, 6, 7, 9], 3: [9, 4, 8]}"
      ]
     },
     "execution_count": 1,
     "metadata": {},
     "output_type": "execute_result"
    }
   ],
   "source": [
    "import numpy as np\n",
    "\n",
    "## 3DS in a team, distribute 11 tasks evenly\n",
    "tasks = np.random.random_integers(1,10,11)\n",
    "team_members = 3\n",
    "current_team_member = 1\n",
    "team_member_dict = {}\n",
    "for task in tasks:\n",
    "    if current_team_member == team_members + 1:\n",
    "        current_team_member = 1\n",
    "    if current_team_member in team_member_dict.keys():\n",
    "        current_tasks = team_member_dict[current_team_member]\n",
    "        current_tasks.append(task)\n",
    "        team_member_dict[current_team_member] = current_tasks\n",
    "    else:\n",
    "        team_member_dict[current_team_member] = [task]\n",
    "    \n",
    "\n",
    "    current_team_member += 1 \n",
    "\n",
    "team_member_dict"
   ]
  },
  {
   "cell_type": "code",
   "execution_count": 51,
   "metadata": {},
   "outputs": [
    {
     "name": "stdout",
     "output_type": "stream",
     "text": [
      "Data Scientist 1 tasks: [6, 11, 10, 9]\n",
      "Data Scientist 2 tasks: [5, 1, 7, 2]\n",
      "Data Scientist 3 tasks: [4, 8, 3]\n",
      "Remaining tasks: [8, 3]\n"
     ]
    }
   ],
   "source": [
    "def distribute_task(num_ds: int, num_tasks: int) -> str:\n",
    "    #calculate number of task per data scientist\n",
    "    task_per_ds = num_tasks // num_ds\n",
    "    #calculate remaining task number\n",
    "    remaining_tasks =  num_tasks % num_ds\n",
    "    #create a list of task number\n",
    "    tasks_list = np.arange(1,num_tasks+1)\n",
    "    task_shuffled = np.random.shuffle(tasks_list)\n",
    "    #task assignment to split evenly\n",
    "    task_assignments = np.array_split(tasks_list, num_ds)\n",
    "\n",
    "    #printth task assignment for each of data scientist \n",
    "    for i, assignments in enumerate(task_assignments):\n",
    "        print(f\"Data Scientist { i+1} tasks: {assignments.tolist()}\")\n",
    "\n",
    "    # Print any remaining tasks\n",
    "    if remaining_tasks > 0:\n",
    "        print(f\"Remaining tasks: {task_assignments[-1][-remaining_tasks:].tolist()}\")\n",
    "    \n",
    "\n",
    "distribute_task(3,11)\n"
   ]
  },
  {
   "cell_type": "code",
   "execution_count": null,
   "metadata": {},
   "outputs": [],
   "source": []
  }
 ],
 "metadata": {
  "kernelspec": {
   "display_name": "demo",
   "language": "python",
   "name": "python3"
  },
  "language_info": {
   "codemirror_mode": {
    "name": "ipython",
    "version": 3
   },
   "file_extension": ".py",
   "mimetype": "text/x-python",
   "name": "python",
   "nbconvert_exporter": "python",
   "pygments_lexer": "ipython3",
   "version": "3.10.11"
  }
 },
 "nbformat": 4,
 "nbformat_minor": 2
}
