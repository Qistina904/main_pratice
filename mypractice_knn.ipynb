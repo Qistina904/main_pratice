{
 "cells": [
  {
   "cell_type": "markdown",
   "metadata": {},
   "source": [
    "KNN PRACTICE\n",
    "IDEA Behind it \n",
    "- trained data with data points corresponding to their classification \n",
    "- use classes of the nearest k data points and choose the majority of the classes where it belongs to predicted classification\n",
    "\n",
    "ALGORITHM \n",
    "1. choose number of k nearest neighbours\n",
    "2. use distance, take knn data points \n",
    "3. count number of data points\n",
    "4. assign to counted data points with most common\n",
    "\n",
    "\n"
   ]
  },
  {
   "cell_type": "markdown",
   "metadata": {},
   "source": [
    "STEP 1 : Choose k nearest neighbour, create most count function"
   ]
  },
  {
   "cell_type": "markdown",
   "metadata": {},
   "source": [
    "STEP 2: USE DISTANCE to find neighbor : of every point to the new point.which square root of sum of square of distance between two points"
   ]
  },
  {
   "cell_type": "markdown",
   "metadata": {},
   "source": [
    "STEP 3: Find and \n",
    "STEP 4: assign to most commmon"
   ]
  },
  {
   "cell_type": "markdown",
   "metadata": {},
   "source": [
    "MAKE PREDICTION"
   ]
  },
  {
   "cell_type": "code",
   "execution_count": 84,
   "metadata": {},
   "outputs": [
    {
     "name": "stdout",
     "output_type": "stream",
     "text": [
      "Predictions: [1 1]\n"
     ]
    }
   ],
   "source": [
    "import numpy as np\n",
    "\n",
    "class KNNClassifier:\n",
    "    def __init__(self, k=3):\n",
    "        self.k = k\n",
    "\n",
    "    def fit(self, X_train, y_train):\n",
    "        self.X_train = X_train\n",
    "        self.y_train = y_train\n",
    "\n",
    "    def predict(self, X_test):\n",
    "        predictions = []\n",
    "\n",
    "        for sample in X_test:\n",
    "            # Calculate Euclidean distances between the test sample and all training samples\n",
    "            #axis 1 indicates summation along axis 1\n",
    "            distances = np.sqrt(np.sum((self.X_train - sample) ** 2, axis=1))\n",
    "\n",
    "            # Get indices of the k-nearest neighbors\n",
    "            k_neighbors_indices = np.argsort(distances)[:self.k]\n",
    "\n",
    "            # Get the corresponding labels of the k-nearest neighbors\n",
    "            k_neighbors_labels = self.y_train[k_neighbors_indices]\n",
    "\n",
    "            # Predict the class based on majority vote\n",
    "            predicted_label = np.argmax(np.bincount(k_neighbors_labels))\n",
    "\n",
    "            predictions.append(predicted_label)\n",
    "\n",
    "        return np.array(predictions)\n",
    "\n",
    "# Example usage:\n",
    "# Replace X_train, y_train, and X_test with your own data\n",
    "X_train = np.array([[1, 2], [2, 3], [3, 4], [5, 6]])\n",
    "y_train = np.array([0, 1, 0, 1])\n",
    "X_test = np.array([[4, 5], [6,8]])\n",
    "\n",
    "# Create and train the KNN classifier\n",
    "knn_classifier = KNNClassifier(k=3)\n",
    "knn_classifier.fit(X_train, y_train)\n",
    "\n",
    "# Make predictions on the test data\n",
    "predictions = knn_classifier.predict(X_test)\n",
    "\n",
    "print(\"Predictions:\", predictions)\n"
   ]
  },
  {
   "cell_type": "code",
   "execution_count": 85,
   "metadata": {},
   "outputs": [],
   "source": [
    "# Input data - [SAT Score, GPA]\n",
    "X = [[1590,2.9], [1540,2.7], [1600,2.6], [1590,2.7], [1520,2.5], [1540,2.4], [1560,2.3], [1490,2.3], [1510,2.4],\n",
    "     [1350,3.9], [1360,3.7], [1370,3.8], [1380,3.7], [1410,3.6], [1420,3.9], [1430,3.4], [1450,3.7], [1460,3.2],\n",
    "     [1590,3.9], [1540,3.7], [1600,3.6], [1490,3.7], [1520,3.5], [1540,3.4], [1560,3.3], [1460,3.3], [1510,3.4],\n",
    "     [1340,2.9], [1360,2.4], [1320,2.5], [1380,2.6], [1400,2.1], [1320,2.5], [1310,2.7], [1410,2.1], [1305,2.5],\n",
    "     [1460,2.7], [1500,2.9], [1300,3.5], [1320,3.6], [1400,2.7], [1300,3.1], [1350,3.1], [1360,2.9], [1305,3.9], \n",
    "     [1430,3.0], [1440,2.3], [1440,2.5], [1380,2.1], [1430,2.1], [1400,2.5], [1420,2.3], [1310,2.1], [1350,2.0]]\n",
    "\n",
    "# Labels - Accepted or Rejected\n",
    "Y = ['accepted','accepted','accepted','accepted','accepted','accepted','accepted','accepted','accepted',\n",
    "     'accepted','accepted','accepted','accepted','accepted','accepted','accepted','accepted','accepted',\n",
    "     'accepted','accepted','accepted','accepted','accepted','accepted','accepted','accepted','accepted',\n",
    "     'rejected','rejected','rejected','rejected','rejected','rejected','rejected','rejected','rejected',\n",
    "     'rejected','rejected','rejected','rejected','rejected','rejected','rejected','rejected','rejected',\n",
    "     'rejected','rejected','rejected','rejected','rejected','rejected','rejected','rejected','rejected']"
   ]
  },
  {
   "cell_type": "code",
   "execution_count": 86,
   "metadata": {},
   "outputs": [
    {
     "data": {
      "text/plain": [
       "array([1, 1, 1, 1, 1, 1, 1, 1, 1, 1, 1, 1, 1, 1, 1, 1, 1, 1, 1, 1, 1, 1,\n",
       "       1, 1, 1, 1, 1, 0, 0, 0, 0, 0, 0, 0, 0, 0, 0, 0, 0, 0, 0, 0, 0, 0,\n",
       "       0, 0, 0, 0, 0, 0, 0, 0, 0, 0])"
      ]
     },
     "execution_count": 86,
     "metadata": {},
     "output_type": "execute_result"
    }
   ],
   "source": [
    "#DATA PROCESSING\n",
    "X= np.array(X)\n",
    "\n",
    "def convert_to_binary(labels):\n",
    "    # Create a binary array where 'accepted' becomes 1 and 'rejected' becomes 0\n",
    "    binary_labels = np.where(labels == 'accepted', 1, 0)\n",
    "    return binary_labels\n",
    "\n",
    "# Convert to binary labels\n",
    "Y = convert_to_binary(np.array(Y))\n",
    "Y\n",
    "\n"
   ]
  },
  {
   "cell_type": "code",
   "execution_count": 87,
   "metadata": {},
   "outputs": [
    {
     "name": "stdout",
     "output_type": "stream",
     "text": [
      "Training set size : 40\n",
      "Testing set size : 13\n"
     ]
    }
   ],
   "source": [
    "#training and testing set size\n",
    "train_size=int(0.75*np.size(X,0))\n",
    "test_size=int(0.25*np.size(X,0))\n",
    "print(\"Training set size : \"+ str(train_size))\n",
    "print(\"Testing set size : \"+str(test_size))"
   ]
  },
  {
   "cell_type": "code",
   "execution_count": 88,
   "metadata": {},
   "outputs": [],
   "source": [
    "#training set split\n",
    "X_train=X[0:train_size,:]\n",
    "X_train =X_train.astype(np.int_)\n",
    "Y_train=Y[0:train_size]\n",
    "\n",
    "#testing set split\n",
    "X_test=X[train_size:,:]\n",
    "X_test = X_test.astype(np.int_)\n",
    "Y_test=Y[train_size:]\n",
    "\n"
   ]
  },
  {
   "cell_type": "code",
   "execution_count": 89,
   "metadata": {},
   "outputs": [
    {
     "data": {
      "text/plain": [
       "array([0, 0, 1, 1, 0, 1, 1, 1, 0, 1, 0, 1, 0, 1])"
      ]
     },
     "execution_count": 89,
     "metadata": {},
     "output_type": "execute_result"
    }
   ],
   "source": [
    "# Create and train the KNN classifier\n",
    "knn_classifier = KNNClassifier(k=5)\n",
    "knn_classifier.fit(X_train, Y_train)\n",
    "\n",
    "# Make predictions on the test data\n",
    "predictions = knn_classifier.predict(X_test)\n",
    "predictions = predictions.astype(np.int_)\n",
    "predictions"
   ]
  },
  {
   "cell_type": "code",
   "execution_count": 90,
   "metadata": {},
   "outputs": [
    {
     "name": "stdout",
     "output_type": "stream",
     "text": [
      "[[6 8]\n",
      " [0 0]]\n"
     ]
    }
   ],
   "source": [
    "#getting the confusion matrix\n",
    "tp=len([i for i in range(0,np.size(Y_test,0)) if Y_test[i]==0 and predictions[i]==0])\n",
    "tn=len([i for i in range(0,np.size(Y_test,0)) if Y_test[i]==0 and predictions[i]==1])\n",
    "fp=len([i for i in range(0,np.size(Y_test,0)) if Y_test[i]==1 and predictions[i]==0])\n",
    "fn=len([i for i in range(0,np.size(Y_test,0)) if Y_test[i]==1 and predictions[i]==1])\n",
    "confusion_matrix=np.array([[tp,tn],[fp,fn]])\n",
    "print(confusion_matrix)"
   ]
  },
  {
   "cell_type": "code",
   "execution_count": 91,
   "metadata": {},
   "outputs": [
    {
     "name": "stdout",
     "output_type": "stream",
     "text": [
      "Accuracy: 1.0\n",
      "Precision: 1.0\n",
      "Recall: 1.0\n",
      "F1 Score: 1.0\n"
     ]
    }
   ],
   "source": [
    "#Confusion matrix\n",
    "def confusion_matrix(tp: int, fp: int, fn: int, tn: int) -> float:\n",
    "    accuracy = (tp + tn ) / (tp + tn+fn +fp)\n",
    "    precision = (tp) / (tp + fp)\n",
    "    recall = tp / (tp + fn)\n",
    "    f1_score = (2*precision*recall) / (precision + recall)\n",
    "    return accuracy, precision, recall, f1_score\n",
    "\n",
    "\n",
    "accuracy, precision, recall, f1_score = confusion_matrix(tp, fp, fn, tn)\n",
    "\n",
    "print(\"Accuracy:\", accuracy)\n",
    "print(\"Precision:\", precision)\n",
    "print(\"Recall:\", recall)\n",
    "print(\"F1 Score:\", f1_score)\n",
    "\n"
   ]
  }
 ],
 "metadata": {
  "kernelspec": {
   "display_name": "practicecode",
   "language": "python",
   "name": "python3"
  },
  "language_info": {
   "codemirror_mode": {
    "name": "ipython",
    "version": 3
   },
   "file_extension": ".py",
   "mimetype": "text/x-python",
   "name": "python",
   "nbconvert_exporter": "python",
   "pygments_lexer": "ipython3",
   "version": "3.12.1"
  }
 },
 "nbformat": 4,
 "nbformat_minor": 2
}
