{
 "cells": [
  {
   "cell_type": "markdown",
   "metadata": {},
   "source": [
    "LINEAR ALGEBRA"
   ]
  },
  {
   "cell_type": "code",
   "execution_count": 80,
   "metadata": {},
   "outputs": [
    {
     "name": "stdout",
     "output_type": "stream",
     "text": [
      "Addition : [5, 7, 9]\n",
      "Subtraction : [-3, -3, -3]\n",
      "vector Sum : [16, 20]\n",
      "Scalar multiply : [3, 6, 9]\n",
      "vector mean :  [4.0, 5.0]\n",
      "sum of product of two vectors :  32\n",
      "Magnitude : 3.7416573867739413\n",
      "sum of squares : 14\n",
      "squared distance : 27\n",
      "distance between two vectors :  5.196152422706632\n"
     ]
    }
   ],
   "source": [
    "import numpy as np\n",
    "from typing import List \n",
    "import math\n",
    "Vector = List[float]\n",
    "#Addition function -> sum of two vectors with same length\n",
    "def add(v:Vector, w: Vector) -> Vector:\n",
    "    assert len(v) == len(w)\n",
    "    return [v_i + w_i for v_i, w_i in zip(v, w)]\n",
    "#Subtraction function\n",
    "def subtract(v: Vector, w: Vector) -> Vector:\n",
    "    assert len(v) == len(w)\n",
    "    return [v_i - w_i for v_i, w_i in zip(v, w)]\n",
    "def vector_sum(vectors: List[Vector]) -> Vector:\n",
    "    assert vectors\n",
    "    num_elements = len(vectors[0])\n",
    "    assert all(len(v) == num_elements for v in vectors), \"different sizes!\"\n",
    "    return [sum(vector[i] for vector in vectors)\n",
    "            for i in range(num_elements)]\n",
    "#Scalar multiply \n",
    "def scalar_multiply(c: float, v: Vector) -> Vector:\n",
    "    return [c * v_i for v_i in v]\n",
    "#Vector mean\n",
    "def vector_mean(vectors: List[Vector]) -> Vector:\n",
    "    n = len(vectors)\n",
    "    return scalar_multiply(1/n, vector_sum(vectors))\n",
    "#dot function, product of two vectors.\n",
    "def dot(v: Vector, w: Vector) -> float:\n",
    "    assert len(v) == len(w)\n",
    "    return sum(v_i * w_i for v_i, w_i in zip(v, w))\n",
    "#sum of squares\n",
    "def sum_of_squares(v: Vector) -> float:\n",
    "    return dot(v, v)\n",
    "#sqrt of sum of squares\n",
    "import math\n",
    "def magnitude(v: Vector) -> float:\n",
    "    return math.sqrt(sum_of_squares(v))\n",
    "#distance between two vectors\n",
    "def squared_distance(v: Vector, w: Vector) -> float:\n",
    "    return sum_of_squares(subtract(v, w))\n",
    "def distance(v: Vector, w: Vector) -> float:\n",
    "    return math.sqrt(squared_distance(v, w))\n",
    "\n",
    "v = [1,2,3]\n",
    "w = [4,5,6]\n",
    "z = [[1, 2], [3, 4], [5, 6], [7, 8]]\n",
    "c = 3\n",
    "print(\"Addition :\", add(v,w))\n",
    "print(\"Subtraction :\", subtract(v,w))\n",
    "print(\"vector Sum :\", vector_sum(z))\n",
    "print(\"Scalar multiply :\", scalar_multiply(c,v))\n",
    "print(\"vector mean : \", vector_mean(z))\n",
    "print(\"sum of product of two vectors : \", dot(v,w))\n",
    "print(\"Magnitude :\", magnitude(v))\n",
    "print(\"sum of squares :\", sum_of_squares(v))\n",
    "print(\"squared distance :\", squared_distance(v,w))\n",
    "print(\"distance between two vectors : \", distance(v,w))\n"
   ]
  },
  {
   "cell_type": "code",
   "execution_count": 81,
   "metadata": {},
   "outputs": [
    {
     "name": "stdout",
     "output_type": "stream",
     "text": [
      "Addition : [5, 7, 9]\n",
      "Subtraction : [-3, -3, -3]\n",
      "vector Sum : [16, 20]\n",
      "Scalar multiply : [3, 6, 9]\n",
      "Scalar multiply : [3, 6, 9]\n",
      "vector mean :  [4.0, 5.0]\n",
      "sum of product of two vectors :  32\n",
      "Magnitude : 3.7416573867739413\n",
      "sum of squares : 14\n",
      "squared distance : 27\n",
      "distance between two vectors :  5.196152422706632\n"
     ]
    }
   ],
   "source": [
    "v = [1,2,3]\n",
    "w = [4,5,6]\n",
    "z = [[1, 2], [3, 4], [5, 6], [7, 8]]\n",
    "c = 3\n",
    "\n",
    "print(\"Addition :\", np.ndarray.tolist(np.add(v,w)))\n",
    "print(\"Subtraction :\", np.ndarray.tolist(np.subtract(v,w)))\n",
    "print(\"vector Sum :\", np.ndarray.tolist(np.vstack(z).sum(axis=0)))\n",
    "print(\"Scalar multiply :\", np.ndarray.tolist(np.dot(c,v)))\n",
    "print(\"Scalar multiply :\", np.ndarray.tolist(np.multiply(c,v)))\n",
    "print(\"vector mean : \", np.ndarray.tolist(np.vstack(z).mean(axis=0)))\n",
    "print(\"sum of product of two vectors : \", np.dot(v,w))\n",
    "print(\"Magnitude :\", np.linalg.norm(v))\n",
    "print(\"sum of squares :\", np.dot(v,v))\n",
    "print(\"squared distance :\", np.dot(np.subtract(v,w),np.subtract(v,w)))\n",
    "print(\"distance between two vectors : \", np.linalg.norm(np.subtract(v,w)))\n"
   ]
  },
  {
   "cell_type": "markdown",
   "metadata": {},
   "source": [
    "STATISTICS"
   ]
  },
  {
   "cell_type": "code",
   "execution_count": 88,
   "metadata": {},
   "outputs": [
    {
     "name": "stdout",
     "output_type": "stream",
     "text": [
      "Mean : 5.636363636363637\n",
      "Median : 6\n",
      "Mode : {8, 9}\n",
      "quantile : 9\n",
      "range:  8\n",
      "Variance :  8.054545454545455\n",
      "Standard Deviation : 2.8380531098880892\n",
      "Interquartile range :  5\n",
      "Covariance : -2.6363636363636362\n",
      "Correlation : -0.16822851365035074\n"
     ]
    }
   ],
   "source": [
    "from collections import Counter\n",
    "#Central tendency \n",
    "def mean(xs: List[float]) -> float:\n",
    "    return sum(xs) / len(xs)\n",
    "def _median_odd(xs: List[float]) -> float:\n",
    "    return sorted(xs)[len(xs) // 2]\n",
    "def _median_even(xs: List[float]) -> float:\n",
    "    sorted_xs = sorted(xs)\n",
    "    hi_midpoint = len(xs) // 2  # e.g. length 4 => hi_midpoint 2\n",
    "    return (sorted_xs[hi_midpoint - 1] + sorted_xs[hi_midpoint]) / 2\n",
    "def median(v: List[float]) -> float:\n",
    "    return _median_even(v) if len(v) % 2 == 0 else _median_odd(v)\n",
    "def quantile(xs: List[float], p: float) -> float:\n",
    "    p_index = int(p * len(xs))\n",
    "    return sorted(xs)[p_index]\n",
    "def mode(x: List[float]) -> List[float]:\n",
    "    counts = Counter(x)\n",
    "    max_count = max(counts.values())\n",
    "    return [x_i for x_i, count in counts.items()\n",
    "            if count == max_count]\n",
    "\n",
    "#Measure of dispersion\n",
    "def data_range(xs: List[float]) -> float:\n",
    "    return max(xs) - min(xs)\n",
    "def de_mean(xs: List[float]) -> List[float]:\n",
    "    x_bar = mean(xs)\n",
    "    return [x - x_bar for x in xs]\n",
    "def variance(xs: List[float]) -> float:\n",
    "    assert len(xs) >= 2\n",
    "    n = len(xs)\n",
    "    deviations = de_mean(xs)\n",
    "    return sum_of_squares(deviations) / (n - 1)\n",
    "def standard_deviation(xs: List[float]) -> float:\n",
    "    return math.sqrt(variance(xs))\n",
    "def interquartile_range(xs: List[float]) -> float:\n",
    "    return quantile(xs, 0.75) - quantile(xs, 0.25)\n",
    "\n",
    "#Covariance\n",
    "def covariance(xs: List[float], ys: List[float]) -> float:\n",
    "    assert len(xs) == len(ys)\n",
    "    return dot(de_mean(xs), de_mean(ys)) / (len(xs) - 1)\n",
    "\n",
    "#Correlation\n",
    "def correlation(xs: List[float], ys: List[float]) -> float:\n",
    "    stdev_x = standard_deviation(xs)\n",
    "    stdev_y = standard_deviation(ys)\n",
    "    if stdev_x > 0 and stdev_y > 0:\n",
    "        return covariance(xs, ys) / stdev_x / stdev_y\n",
    "    else:\n",
    "        return 0    # if no variation, correlation is zero\n",
    "\n",
    "v = [1,2,3,4,5,6,7,8,8,9,9]\n",
    "w = [4,5,6,10,20,1,3,2,1,4,9]\n",
    "p = 0.75\n",
    "\n",
    "print(\"Mean :\", mean(v))\n",
    "print(\"Median :\", median(v))\n",
    "print(\"Mode :\", set(mode(v)))\n",
    "print(\"quantile :\", quantile(v,0.9))\n",
    "print(\"range: \", data_range(v))\n",
    "print(\"Variance : \", variance(v))\n",
    "print(\"Standard Deviation :\", standard_deviation(v))\n",
    "print(\"Interquartile range : \", interquartile_range(v))\n",
    "print(\"Covariance :\", covariance(v,w))\n",
    "print(\"Correlation :\", correlation(v,w))\n"
   ]
  },
  {
   "cell_type": "code",
   "execution_count": 98,
   "metadata": {},
   "outputs": [
    {
     "name": "stdout",
     "output_type": "stream",
     "text": [
      "Mean : 5.636363636363637\n",
      "Median : 6.0\n",
      "Variance :  8.054545454545455\n",
      "Standard Deviation : 2.8380531098880892\n",
      "Covariance : [[ 8.05454545 -2.63636364]\n",
      " [-2.63636364 30.49090909]]\n",
      "Correlation : [[ 1.         -0.16822851]\n",
      " [-0.16822851  1.        ]]\n"
     ]
    }
   ],
   "source": [
    "v = [1,2,3,4,5,6,7,8,8,9,9]\n",
    "w = [4,5,6,10,20,1,3,2,1,4,9]\n",
    "p = 0.75\n",
    "\n",
    "print(\"Mean :\", np.mean(v))\n",
    "print(\"Median :\", np.median(v))\n",
    "#print(\"Mode :\", set(mode(v)))\n",
    "#print(\"quantile :\", np.quantile(v,0.9))\n",
    "#print(\"range: \", data_range(v))\n",
    "print(\"Variance : \", np.var(v, ddof =1))\n",
    "print(\"Standard Deviation :\", np.std(v, ddof=1))\n",
    "#print(\"Interquartile range : \", interquartile_range(v))\n",
    "print(\"Covariance :\", np.cov(v,w))\n",
    "print(\"Correlation :\", np.corrcoef(v,w))\n"
   ]
  },
  {
   "cell_type": "markdown",
   "metadata": {},
   "source": [
    "PROBABILITY"
   ]
  },
  {
   "cell_type": "code",
   "execution_count": 101,
   "metadata": {},
   "outputs": [],
   "source": [
    "#Create a CDF Uniform - Pr rv less than or equal to certain value  \n",
    "def uniform_cdf(x: float) -> float:\n",
    "    \"\"\"Returns the probability that a uniform random variable is <= x\"\"\"\n",
    "    if x < 0:   return 0    # uniform random is never less than 0\n",
    "    elif x < 1: return x    # e.g. P(X <= 0.4) = 0.4\n",
    "    else:       return 1    # uniform random is always less than 1\n",
    "import random\n",
    "random.seed(100)\n",
    "#normal pdf\n",
    "SQRT_TWO_PI = math.sqrt(2 * math.pi)\n",
    "def normal_pdf(x: float, mu: float = 0, sigma: float = 1) -> float:\n",
    "    return (math.exp(-(x-mu) ** 2 / 2 / sigma ** 2) / (SQRT_TWO_PI * sigma))\n",
    "\n",
    "#Normal distribution CDF\n",
    "def normal_cdf(x: float, mu: float = 0, sigma: float = 1) -> float:\n",
    "    return (1 + math.erf((x - mu) / math.sqrt(2) / sigma)) / 2\n",
    "\n",
    "#Inverse normal distribution using binary search \n",
    "def inverse_normal_cdf(p: float,\n",
    "                       mu: float = 0,\n",
    "                       sigma: float = 1,\n",
    "                       tolerance: float = 0.00001) -> float:\n",
    "    \"\"\"Find approximate inverse using binary search\"\"\"\n",
    "   # if not standard, compute standard and rescale\n",
    "    if mu != 0 or sigma != 1:\n",
    "        return mu + sigma * inverse_normal_cdf(p, tolerance=tolerance)\n",
    "    low_z = -10.0                      # normal_cdf(-10) is (very close to) 0\n",
    "    hi_z  =  10.0                      # normal_cdf(10)  is (very close to) 1\n",
    "    while hi_z - low_z > tolerance:\n",
    "        mid_z = (low_z + hi_z) / 2     # Consider the midpoint\n",
    "        mid_p = normal_cdf(mid_z)      # and the cdf's value there\n",
    "        if mid_p < p:\n",
    "            low_z = mid_z              # Midpoint too low, search above it\n",
    "        else:\n",
    "            hi_z = mid_z               # Midpoint too high, search below it\n",
    "\n",
    "    return mid_z\n"
   ]
  },
  {
   "cell_type": "markdown",
   "metadata": {},
   "source": [
    "GRADIENT DESCENT "
   ]
  },
  {
   "cell_type": "code",
   "execution_count": 114,
   "metadata": {},
   "outputs": [
    {
     "name": "stdout",
     "output_type": "stream",
     "text": [
      "Gradient step :  [3, 5, 7]\n",
      "Sum of Square Gradient :  [2, 4, 6]\n"
     ]
    }
   ],
   "source": [
    "#GRADIENT DESCENT\n",
    "#Compute gradient function \n",
    "def gradient_step(v: Vector, gradient: Vector, step_size: float) -> Vector:\n",
    "    \"\"\"Moves `step_size` in the `gradient` direction from `v`\"\"\"\n",
    "    assert len(v) == len(gradient)\n",
    "    step = scalar_multiply(step_size, gradient)\n",
    "    return add(v, step)\n",
    "\n",
    "def sum_of_squares_gradient(v: Vector) -> Vector:\n",
    "    return [2 * v_i for v_i in v]\n",
    "\n",
    "v = [1,2,3]\n",
    "gradient = [2,3,4]\n",
    "step_size = 1\n",
    "\n",
    "print('Gradient step : ', gradient_step(v,gradient, step_size))\n",
    "print('Sum of Square Gradient : ', sum_of_squares_gradient(v))\n"
   ]
  },
  {
   "cell_type": "code",
   "execution_count": 118,
   "metadata": {},
   "outputs": [
    {
     "name": "stdout",
     "output_type": "stream",
     "text": [
      "Gradient step :  [3, 5, 7]\n",
      "Sum of Square Gradient :  [2 4 6]\n"
     ]
    }
   ],
   "source": [
    "v = [1,2,3]\n",
    "gradient = [2,3,4]\n",
    "step_size = 1\n",
    "\n",
    "print('Gradient step : ', np.ndarray.tolist(np.add(v,np.dot(step_size,gradient))))\n",
    "print('Sum of Square Gradient : ', np.dot(2,v))\n"
   ]
  },
  {
   "cell_type": "code",
   "execution_count": 123,
   "metadata": {},
   "outputs": [],
   "source": [
    "#MACHINE LEARNING\n",
    "import random\n",
    "from typing import TypeVar, List, Tuple\n",
    "X = TypeVar('X')  # generic type to represent a data point\n",
    "\n",
    "def split_data(data: List[X], prob: float) -> Tuple[List[X], List[X]]:\n",
    "    \"\"\"Split data into fractions [prob, 1 - prob]\"\"\"\n",
    "    data = data[:]                    # Make a shallow copy\n",
    "    random.shuffle(data)              # because shuffle modifies the list.\n",
    "    cut = int(len(data) * prob)       # Use prob to find a cutoff\n",
    "    return data[:cut], data[cut:]     # and split the shuffled list there.\n",
    "\n",
    "data = [n for n in range(1000)]\n",
    "train, test = split_data(data, 0.75)\n",
    "\n",
    "Y = TypeVar('Y')  # generic type to represent output variables\n",
    "\n",
    "def train_test_split(xs: List[X],\n",
    "                     ys: List[Y],\n",
    "                     test_pct: float) -> Tuple[List[X], List[X], List[Y], List[Y]]:\n",
    "    # Generate the indices and split them.\n",
    "    idxs = [i for i in range(len(xs))]\n",
    "    train_idxs, test_idxs = split_data(idxs, 1 - test_pct)\n",
    "\n",
    "    return ([xs[i] for i in train_idxs],  # x_train\n",
    "            [xs[i] for i in test_idxs],   # x_test\n",
    "            [ys[i] for i in train_idxs],  # y_train\n",
    "            [ys[i] for i in test_idxs])   # y_test"
   ]
  }
 ],
 "metadata": {
  "kernelspec": {
   "display_name": "practicecode",
   "language": "python",
   "name": "python3"
  },
  "language_info": {
   "codemirror_mode": {
    "name": "ipython",
    "version": 3
   },
   "file_extension": ".py",
   "mimetype": "text/x-python",
   "name": "python",
   "nbconvert_exporter": "python",
   "pygments_lexer": "ipython3",
   "version": "3.12.1"
  }
 },
 "nbformat": 4,
 "nbformat_minor": 2
}
