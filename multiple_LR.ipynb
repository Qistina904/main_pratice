{
 "cells": [
  {
   "cell_type": "markdown",
   "metadata": {},
   "source": [
    "Multiple LINEAR REGRESSION: y = intercept + coef1(x1) + coef2(x2) + coef3(x3) + errorterm\n",
    "- Linear Regression function parameter:\n",
    "    1. X:np.array -> [[1,2,3],[4,5,6]] \"two-Dimension Array\"\n",
    "    2. y:np.array  -> [4,5,6] 'One-Dimension Array\"\n",
    "    * returns -> [coef1, coef2,coef3] and intercept\n",
    "- Predictions function parameter:\n",
    "    1. coefficients: np.array \"One-Dimension\"\n",
    "    2. intercept: float\n",
    "    3. X: np.array -> [[1,2,3],[4,5,6]] \"Two-Dimension Array\"\n",
    "    * returns -> predictions:np.array \"one-Dimension array\"\n",
    "- R2 function:\n",
    "    1. y_true: np.array -> [1,2,3]\n",
    "    2. predictions: np.array -> [1,2,3]\n",
    "    * returns -> R2:float"
   ]
  },
  {
   "cell_type": "code",
   "execution_count": 2,
   "metadata": {},
   "outputs": [],
   "source": [
    "import numpy as np\n",
    "\n",
    "def multiple_linear_regression(X:np.array, y:np.array)-> np.array:\n",
    "   \n",
    "    # Add a column of ones to X for the intercept term\n",
    "    X_extended = np.c_[np.ones(X.shape[0]), X]\n",
    "    #product of transpose matrix with feature extended\n",
    "    prod_transpose = np.dot(X_extended.T, X_extended)\n",
    "    #calc the inverse of product transpose matrix\n",
    "    prod_transpose_inverse = np.linalg.inv(prod_transpose)\n",
    "    #product of feature extended transpose with predictor\n",
    "    prod_transpose_y = np.dot(X_extended.T,y)\n",
    "    #calc coefficients using normal equations \n",
    "    #coefficients = (X^T * X)^(-1) * X^T * y\n",
    "    coefficients = np.dot(prod_transpose_inverse,prod_transpose_y)\n",
    "\n",
    "    # Extract the intercept and coefficients\n",
    "    intercept = coefficients[0]\n",
    "    coefficients = coefficients[1:]\n",
    "\n",
    "    return coefficients, intercept\n",
    "\n",
    "# Example usage:\n",
    "# Replace X_data and y_data with your own data\n",
    "#X_data = np.array([[1, 2], [2, 3], [3, 4]])\n",
    "#y_data = np.array([5, 8, 10])\n",
    "\n",
    "#coefficients, intercept = multiple_linear_regression(X_data, y_data)\n",
    "\n",
    "#print(\"Coefficients:\", coefficients)\n",
    "#print(\"Intercept:\", intercept)\n"
   ]
  },
  {
   "cell_type": "markdown",
   "metadata": {},
   "source": [
    "Formula explain \n",
    "\n",
    "In summary, the code is solving the normal equation to find the coefficients for a multiple linear regression model. The normal equation provides a closed-form solution to the linear regression problem by directly calculating the coefficients that minimize the sum of squared differences between the predicted and actual values."
   ]
  },
  {
   "cell_type": "code",
   "execution_count": 3,
   "metadata": {},
   "outputs": [],
   "source": [
    "#Prediction function\n",
    "\n",
    "def predict_multiple_linear_regression(X:np.array, coefficients:np.array, intercept:float)-> np.array:\n",
    "    # Add a column of ones to X for the intercept term\n",
    "    X_extended = np.c_[np.ones(X.shape[0]), X]\n",
    "\n",
    "    # Calculate predictions\n",
    "    y_pred = X_extended @ np.hstack((intercept, coefficients))\n",
    "\n",
    "    return y_pred\n",
    "\n",
    "# Example usage:\n",
    "# Replace X_data, coefficients, and intercept with your own data\n",
    "#X_data = np.array([[1, 2], [2, 3], [3, 4]])\n",
    "#coefficients = np.array([2, 3])\n",
    "#intercept = 1\n",
    "\n",
    "#predictions = predict_multiple_linear_regression(X_data, coefficients, intercept)\n",
    "\n",
    "#print(\"Input features (X):\")\n",
    "#print(X_data)\n",
    "#print(\"\\nPredicted values:\")\n",
    "#print(predictions)\n"
   ]
  },
  {
   "cell_type": "code",
   "execution_count": 4,
   "metadata": {},
   "outputs": [],
   "source": [
    "#Compuet r2 function\n",
    "#compute R2 - coef of determination = 1- (SSR/SST)\n",
    "def compute_r2(y_true, y_pred):\n",
    "    residual = y_true - y_pred\n",
    "    mean_y_true = np.mean(y_true)\n",
    "    #** is power of\n",
    "    #total sum of square\n",
    "    total_variance = np.sum((y_true - mean_y_true) ** 2)\n",
    "    #sum of squared errors = SSR\n",
    "    explained_variance = np.sum((residual) ** 2)\n",
    "\n",
    "    r2 = 1- (explained_variance / total_variance)\n",
    "\n",
    "    return r2"
   ]
  },
  {
   "cell_type": "markdown",
   "metadata": {},
   "source": [
    "REAL DATA APPLICATIONS"
   ]
  },
  {
   "cell_type": "code",
   "execution_count": 5,
   "metadata": {},
   "outputs": [],
   "source": [
    "\n",
    "# using loadtxt()\n",
    "Data = np.loadtxt(\"Startups.csv\",\n",
    "                 delimiter=\",\", dtype=str)\n",
    "\n",
    "#display(Data)\n",
    "#print(Data.ndim)\n",
    "#print(Data.shape)\n",
    "#print(Data.size)"
   ]
  },
  {
   "cell_type": "code",
   "execution_count": 6,
   "metadata": {},
   "outputs": [],
   "source": [
    "#Process Data\n",
    "Data_without_first_row = np.delete(Data, 0, axis=0)\n",
    "shuffled_data = np.random.permutation(Data_without_first_row)\n",
    "#print(\"Original 2D array:\")\n",
    "#print(Data)\n",
    "#print(\"Shuffled copy:\")\n",
    "#print(shuffled_data)"
   ]
  },
  {
   "cell_type": "code",
   "execution_count": 7,
   "metadata": {},
   "outputs": [
    {
     "name": "stdout",
     "output_type": "stream",
     "text": [
      "Training set size : 37\n",
      "Testing set size : 12\n"
     ]
    }
   ],
   "source": [
    "#training and testing set size\n",
    "train_size=int(0.75*np.size(shuffled_data,0))\n",
    "test_size=int(0.25*np.size(shuffled_data,0))\n",
    "print(\"Training set size : \"+ str(train_size))\n",
    "print(\"Testing set size : \"+str(test_size))"
   ]
  },
  {
   "cell_type": "code",
   "execution_count": 8,
   "metadata": {},
   "outputs": [],
   "source": [
    "#SPLIT FEATURES AND PREDICTOR\n",
    "#Getting features from dataset select column number\n",
    "X=shuffled_data[:,[0,1,2]]\n",
    "y=shuffled_data[:,4]"
   ]
  },
  {
   "cell_type": "code",
   "execution_count": 9,
   "metadata": {},
   "outputs": [],
   "source": [
    "#SPLIT TRAIN/TEST (make sure X is 2d array and y is 1d array)\n",
    "#training set split\n",
    "X_train=X[0:train_size,:]\n",
    "X_train = X_train.astype(np.float_)\n",
    "y_train=y[0:train_size]\n",
    "y_train = y_train.flatten()\n",
    "y_train = y_train.astype(np.float_)\n",
    "\n",
    "#testing set split\n",
    "X_test=X[train_size:,:]\n",
    "X_test = X_test.astype(np.float_)\n",
    "Y_test=y[train_size:]\n",
    "Y_test = Y_test.flatten()\n",
    "Y_test = Y_test.astype(np.float_)"
   ]
  },
  {
   "cell_type": "code",
   "execution_count": 10,
   "metadata": {},
   "outputs": [
    {
     "name": "stdout",
     "output_type": "stream",
     "text": [
      "Coefficients: [ 0.85699668 -0.07421305  0.01715109]\n",
      "Intercept: 54020.57032281859\n",
      "R-squared : 0.9482678300082175\n"
     ]
    }
   ],
   "source": [
    "#Find beta coef and Intercept\n",
    "coefficients, intercept = multiple_linear_regression(X_train, y_train)\n",
    "#predictions function\n",
    "predictions = predict_multiple_linear_regression(np.array(X_train), np.array(coefficients), intercept)\n",
    "#Compute R2\n",
    "r2_train = compute_r2(np.array(y_train),predictions)\n",
    "\n",
    "print(\"Coefficients:\", coefficients)\n",
    "print(\"Intercept:\", intercept)\n",
    "print(\"R-squared :\", r2_train)\n"
   ]
  }
 ],
 "metadata": {
  "kernelspec": {
   "display_name": "practicecode",
   "language": "python",
   "name": "python3"
  },
  "language_info": {
   "codemirror_mode": {
    "name": "ipython",
    "version": 3
   },
   "file_extension": ".py",
   "mimetype": "text/x-python",
   "name": "python",
   "nbconvert_exporter": "python",
   "pygments_lexer": "ipython3",
   "version": "3.12.1"
  }
 },
 "nbformat": 4,
 "nbformat_minor": 2
}
